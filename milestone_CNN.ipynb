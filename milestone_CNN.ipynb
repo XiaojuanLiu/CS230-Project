{
  "nbformat": 4,
  "nbformat_minor": 0,
  "metadata": {
    "colab": {
      "name": "milestone_CNN",
      "provenance": [],
      "collapsed_sections": [],
      "include_colab_link": true
    },
    "kernelspec": {
      "name": "python3",
      "display_name": "Python 3"
    },
    "language_info": {
      "name": "python"
    }
  },
  "cells": [
    {
      "cell_type": "markdown",
      "metadata": {
        "id": "view-in-github",
        "colab_type": "text"
      },
      "source": [
        "<a href=\"https://colab.research.google.com/github/liuyx211/CS230-Project/blob/main/milestone_CNN.ipynb\" target=\"_parent\"><img src=\"https://colab.research.google.com/assets/colab-badge.svg\" alt=\"Open In Colab\"/></a>"
      ]
    },
    {
      "cell_type": "code",
      "metadata": {
        "colab": {
          "base_uri": "https://localhost:8080/"
        },
        "id": "5S61c9MOPOqT",
        "outputId": "8a8915ac-20db-4963-e061-394883cb7fe9"
      },
      "source": [
        "!pip install git+https://github.com/tensorflow/examples.git\n",
        "!pip install imgaug==0.4.0\n",
        "!pip install -U tensorflow-addons"
      ],
      "execution_count": null,
      "outputs": [
        {
          "output_type": "stream",
          "name": "stdout",
          "text": [
            "Collecting git+https://github.com/tensorflow/examples.git\n",
            "  Cloning https://github.com/tensorflow/examples.git to /tmp/pip-req-build-cq08__5d\n",
            "  Running command git clone -q https://github.com/tensorflow/examples.git /tmp/pip-req-build-cq08__5d\n",
            "Requirement already satisfied: absl-py in /usr/local/lib/python3.7/dist-packages (from tensorflow-examples===ec3e02a33d087331c76a5f3c2d427b4cf965745e-) (0.12.0)\n",
            "Requirement already satisfied: six in /usr/local/lib/python3.7/dist-packages (from tensorflow-examples===ec3e02a33d087331c76a5f3c2d427b4cf965745e-) (1.15.0)\n",
            "Building wheels for collected packages: tensorflow-examples\n",
            "  Building wheel for tensorflow-examples (setup.py) ... \u001b[?25l\u001b[?25hdone\n",
            "  Created wheel for tensorflow-examples: filename=tensorflow_examples-ec3e02a33d087331c76a5f3c2d427b4cf965745e_-py3-none-any.whl size=268138 sha256=250a28ba73e6a14d991f4fa3adf6ba5d913a36d620c63a9a909240d1c5adacd1\n",
            "  Stored in directory: /tmp/pip-ephem-wheel-cache-omvploi_/wheels/eb/19/50/2a4363c831fa12b400af86325a6f26ade5d2cdc5b406d552ca\n",
            "\u001b[33m  WARNING: Built wheel for tensorflow-examples is invalid: Metadata 1.2 mandates PEP 440 version, but 'ec3e02a33d087331c76a5f3c2d427b4cf965745e-' is not\u001b[0m\n",
            "Failed to build tensorflow-examples\n",
            "Installing collected packages: tensorflow-examples\n",
            "    Running setup.py install for tensorflow-examples ... \u001b[?25l\u001b[?25hdone\n",
            "\u001b[33m  DEPRECATION: tensorflow-examples was installed using the legacy 'setup.py install' method, because a wheel could not be built for it. A possible replacement is to fix the wheel build issue reported above. You can find discussion regarding this at https://github.com/pypa/pip/issues/8368.\u001b[0m\n",
            "Successfully installed tensorflow-examples-ec3e02a33d087331c76a5f3c2d427b4cf965745e-\n",
            "Collecting imgaug==0.4.0\n",
            "  Downloading imgaug-0.4.0-py2.py3-none-any.whl (948 kB)\n",
            "\u001b[K     |████████████████████████████████| 948 kB 5.5 MB/s \n",
            "\u001b[?25hRequirement already satisfied: opencv-python in /usr/local/lib/python3.7/dist-packages (from imgaug==0.4.0) (4.1.2.30)\n",
            "Requirement already satisfied: scikit-image>=0.14.2 in /usr/local/lib/python3.7/dist-packages (from imgaug==0.4.0) (0.16.2)\n",
            "Requirement already satisfied: six in /usr/local/lib/python3.7/dist-packages (from imgaug==0.4.0) (1.15.0)\n",
            "Requirement already satisfied: imageio in /usr/local/lib/python3.7/dist-packages (from imgaug==0.4.0) (2.4.1)\n",
            "Requirement already satisfied: matplotlib in /usr/local/lib/python3.7/dist-packages (from imgaug==0.4.0) (3.2.2)\n",
            "Requirement already satisfied: Shapely in /usr/local/lib/python3.7/dist-packages (from imgaug==0.4.0) (1.7.1)\n",
            "Requirement already satisfied: numpy>=1.15 in /usr/local/lib/python3.7/dist-packages (from imgaug==0.4.0) (1.19.5)\n",
            "Requirement already satisfied: scipy in /usr/local/lib/python3.7/dist-packages (from imgaug==0.4.0) (1.4.1)\n",
            "Requirement already satisfied: Pillow in /usr/local/lib/python3.7/dist-packages (from imgaug==0.4.0) (7.1.2)\n",
            "Requirement already satisfied: networkx>=2.0 in /usr/local/lib/python3.7/dist-packages (from scikit-image>=0.14.2->imgaug==0.4.0) (2.6.3)\n",
            "Requirement already satisfied: PyWavelets>=0.4.0 in /usr/local/lib/python3.7/dist-packages (from scikit-image>=0.14.2->imgaug==0.4.0) (1.1.1)\n",
            "Requirement already satisfied: python-dateutil>=2.1 in /usr/local/lib/python3.7/dist-packages (from matplotlib->imgaug==0.4.0) (2.8.2)\n",
            "Requirement already satisfied: pyparsing!=2.0.4,!=2.1.2,!=2.1.6,>=2.0.1 in /usr/local/lib/python3.7/dist-packages (from matplotlib->imgaug==0.4.0) (2.4.7)\n",
            "Requirement already satisfied: kiwisolver>=1.0.1 in /usr/local/lib/python3.7/dist-packages (from matplotlib->imgaug==0.4.0) (1.3.2)\n",
            "Requirement already satisfied: cycler>=0.10 in /usr/local/lib/python3.7/dist-packages (from matplotlib->imgaug==0.4.0) (0.10.0)\n",
            "Installing collected packages: imgaug\n",
            "  Attempting uninstall: imgaug\n",
            "    Found existing installation: imgaug 0.2.9\n",
            "    Uninstalling imgaug-0.2.9:\n",
            "      Successfully uninstalled imgaug-0.2.9\n",
            "\u001b[31mERROR: pip's dependency resolver does not currently take into account all the packages that are installed. This behaviour is the source of the following dependency conflicts.\n",
            "albumentations 0.1.12 requires imgaug<0.2.7,>=0.2.5, but you have imgaug 0.4.0 which is incompatible.\u001b[0m\n",
            "Successfully installed imgaug-0.4.0\n",
            "Collecting tensorflow-addons\n",
            "  Downloading tensorflow_addons-0.14.0-cp37-cp37m-manylinux_2_12_x86_64.manylinux2010_x86_64.whl (1.1 MB)\n",
            "\u001b[K     |████████████████████████████████| 1.1 MB 5.4 MB/s \n",
            "\u001b[?25hRequirement already satisfied: typeguard>=2.7 in /usr/local/lib/python3.7/dist-packages (from tensorflow-addons) (2.7.1)\n",
            "Installing collected packages: tensorflow-addons\n",
            "Successfully installed tensorflow-addons-0.14.0\n"
          ]
        }
      ]
    },
    {
      "cell_type": "code",
      "metadata": {
        "id": "wcA1wgEPPSB8"
      },
      "source": [
        "import numpy as np\n",
        "import datetime\n",
        "import random\n",
        "import os"
      ],
      "execution_count": null,
      "outputs": []
    },
    {
      "cell_type": "code",
      "metadata": {
        "id": "_wnCgYkXPVuC"
      },
      "source": [
        "from tensorflow.keras import layers\n",
        "import tensorflow as tf\n",
        "from tensorflow import keras\n",
        "from tensorflow.keras import applications, optimizers\n",
        "from tensorflow.keras.layers import *\n",
        "from tensorflow.keras.models import *\n",
        "from tensorflow.keras.callbacks import ReduceLROnPlateau, EarlyStopping\n",
        "from tensorflow.keras.preprocessing.image import load_img\n",
        "from tensorflow.keras.preprocessing.image import img_to_array\n",
        "import tensorflow_addons as tfa\n",
        "import matplotlib.pyplot as plt\n",
        "from tensorflow_examples.models.pix2pix import pix2pix\n",
        "\n",
        "import json\n",
        "import imgaug as ia\n",
        "import imgaug.augmenters as iaa\n",
        "from imgaug.augmentables.segmaps import SegmentationMapsOnImage\n",
        "\n",
        "from sklearn.model_selection import train_test_split\n",
        "from IPython.display import clear_output\n",
        "\n",
        "import xml.etree.ElementTree as ET\n",
        "\n",
        "image_size = 224"
      ],
      "execution_count": null,
      "outputs": []
    },
    {
      "cell_type": "code",
      "metadata": {
        "colab": {
          "base_uri": "https://localhost:8080/"
        },
        "id": "iRIHePEBPdj2",
        "outputId": "d8333bbc-1e44-442b-8d56-95efd891e005"
      },
      "source": [
        "from google.colab import drive\n",
        "drive.mount('/content/drive')"
      ],
      "execution_count": null,
      "outputs": [
        {
          "output_type": "stream",
          "name": "stdout",
          "text": [
            "Mounted at /content/drive\n"
          ]
        }
      ]
    },
    {
      "cell_type": "code",
      "metadata": {
        "id": "dToi9-ohQuHr"
      },
      "source": [
        "image_path = '/content/drive/MyDrive/newCS230/newdataset'\n",
        "label_path = '/content/drive/MyDrive/newCS230/new_positive_labels'\n",
        "secondary_path = '/content/drive/MyDrive/newCS230/non-card'"
      ],
      "execution_count": null,
      "outputs": []
    },
    {
      "cell_type": "code",
      "metadata": {
        "colab": {
          "base_uri": "https://localhost:8080/"
        },
        "id": "XKTU7TMVPJ0H",
        "outputId": "b92fe43a-64b2-4acb-d56e-8faebd487674"
      },
      "source": [
        "images = []\n",
        "labels = []\n",
        "for f in os.listdir(f\"{image_path}\"):\n",
        "    image_file = f\"{image_path}/{f}\"\n",
        "    img_array = img_to_array(load_img(image_file), dtype='uint8')\n",
        "    img_array = tf.image.resize(img_array, (image_size, image_size), antialias=False)\n",
        "    images.append(img_array)\n",
        "    \n",
        "    label_file = f\"{label_path}/{f[:-5]}.xml\"\n",
        "    try:\n",
        "        tree = ET.parse(label_file)\n",
        "        labels.append(1)\n",
        "    except:\n",
        "        print(label_file)\n",
        "        labels.append(0)\n",
        "\n",
        "############################################################\n",
        "for f in os.listdir(f\"{secondary_path}\"):\n",
        "    image_file = f\"{secondary_path}/{f}\"\n",
        "    img_array = img_to_array(load_img(image_file), dtype='uint8')\n",
        "    img_array = tf.image.resize(img_array, (image_size, image_size), antialias=False)\n",
        "    images.append(img_array)\n",
        "    labels.append(0)\n",
        "\n",
        "#    img_mask_array = np.load(mask_file)\n",
        "#    masks.append(img_mask_array['arr_0'])\n",
        "#images = np.array(images)\n",
        "#masks = np.array(masks)\n",
        "#masks = np.array(masks>0, dtype='uint8')"
      ],
      "execution_count": null,
      "outputs": [
        {
          "output_type": "stream",
          "name": "stdout",
          "text": [
            "/content/drive/MyDrive/newCS230/new_positive_labels/184.xml\n",
            "/content/drive/MyDrive/newCS230/new_positive_labels/175.xml\n",
            "/content/drive/MyDrive/newCS230/new_positive_labels/158.xml\n",
            "/content/drive/MyDrive/newCS230/new_positive_labels/151.xml\n",
            "/content/drive/MyDrive/newCS230/new_positive_labels/152.xml\n",
            "/content/drive/MyDrive/newCS230/new_positive_labels/205.xml\n",
            "/content/drive/MyDrive/newCS230/new_positive_labels/170.xml\n",
            "/content/drive/MyDrive/newCS230/new_positive_labels/155.xml\n",
            "/content/drive/MyDrive/newCS230/new_positive_labels/201.xml\n",
            "/content/drive/MyDrive/newCS230/new_positive_labels/188.xml\n",
            "/content/drive/MyDrive/newCS230/new_positive_labels/177.xml\n",
            "/content/drive/MyDrive/newCS230/new_positive_labels/181.xml\n",
            "/content/drive/MyDrive/newCS230/new_positive_labels/156.xml\n",
            "/content/drive/MyDrive/newCS230/new_positive_labels/183.xml\n",
            "/content/drive/MyDrive/newCS230/new_positive_labels/190.xml\n",
            "/content/drive/MyDrive/newCS230/new_positive_labels/113.xml\n",
            "/content/drive/MyDrive/newCS230/new_positive_labels/115.xml\n",
            "/content/drive/MyDrive/newCS230/new_positive_labels/160.xml\n",
            "/content/drive/MyDrive/newCS230/new_positive_labels/171.xml\n",
            "/content/drive/MyDrive/newCS230/new_positive_labels/150.xml\n",
            "/content/drive/MyDrive/newCS230/new_positive_labels/182.xml\n",
            "/content/drive/MyDrive/newCS230/new_positive_labels/169.xml\n",
            "/content/drive/MyDrive/newCS230/new_positive_labels/191.xml\n",
            "/content/drive/MyDrive/newCS230/new_positive_labels/186.xml\n",
            "/content/drive/MyDrive/newCS230/new_positive_labels/167.xml\n",
            "/content/drive/MyDrive/newCS230/new_positive_labels/159.xml\n",
            "/content/drive/MyDrive/newCS230/new_positive_labels/148.xml\n",
            "/content/drive/MyDrive/newCS230/new_positive_labels/173.xml\n",
            "/content/drive/MyDrive/newCS230/new_positive_labels/168.xml\n",
            "/content/drive/MyDrive/newCS230/new_positive_labels/157.xml\n",
            "/content/drive/MyDrive/newCS230/new_positive_labels/164.xml\n",
            "/content/drive/MyDrive/newCS230/new_positive_labels/199.xml\n",
            "/content/drive/MyDrive/newCS230/new_positive_labels/153.xml\n",
            "/content/drive/MyDrive/newCS230/new_positive_labels/178.xml\n",
            "/content/drive/MyDrive/newCS230/new_positive_labels/185.xml\n",
            "/content/drive/MyDrive/newCS230/new_positive_labels/174.xml\n",
            "/content/drive/MyDrive/newCS230/new_positive_labels/172.xml\n",
            "/content/drive/MyDrive/newCS230/new_positive_labels/180.xml\n",
            "/content/drive/MyDrive/newCS230/new_positive_labels/134.xml\n",
            "/content/drive/MyDrive/newCS230/new_positive_labels/197.xml\n",
            "/content/drive/MyDrive/newCS230/new_positive_labels/116.xml\n",
            "/content/drive/MyDrive/newCS230/new_positive_labels/189.xml\n",
            "/content/drive/MyDrive/newCS230/new_positive_labels/179.xml\n",
            "/content/drive/MyDrive/newCS230/new_positive_labels/225.xml\n",
            "/content/drive/MyDrive/newCS230/new_positive_labels/166.xml\n",
            "/content/drive/MyDrive/newCS230/new_positive_labels/114.xml\n"
          ]
        }
      ]
    },
    {
      "cell_type": "code",
      "metadata": {
        "id": "CcnpmtLaRpY0"
      },
      "source": [
        "\n",
        "images = np.array(images)\n",
        "images = np.array(images/255.0, dtype='float32')\n",
        "labels = np.array(labels)\n",
        "x_train, x_val, y_train, y_val = train_test_split(images, labels, test_size=0.3, random_state=1)"
      ],
      "execution_count": null,
      "outputs": []
    },
    {
      "cell_type": "code",
      "metadata": {
        "colab": {
          "base_uri": "https://localhost:8080/"
        },
        "id": "gwUvHenLB5Nr",
        "outputId": "91f169b6-1278-4aba-a0b3-d6c0a51224b8"
      },
      "source": [
        "print(images.shape)\n",
        "print(y_val.shape)\n",
        "print(np.sum(y_val)/y_val.shape[0])"
      ],
      "execution_count": null,
      "outputs": [
        {
          "output_type": "stream",
          "name": "stdout",
          "text": [
            "(385, 224, 224, 3)\n",
            "(116,)\n",
            "0.43103448275862066\n"
          ]
        }
      ]
    },
    {
      "cell_type": "code",
      "metadata": {
        "id": "UpIhHBWMSVNJ",
        "colab": {
          "base_uri": "https://localhost:8080/"
        },
        "outputId": "38ac4332-9a44-40b4-85cc-c5dc4670d3d3"
      },
      "source": [
        "all_models = []\n",
        "all_histories = []\n",
        "for i in range(1):\n",
        "  model = Sequential()\n",
        "  model.add(Conv2D(64, (3, 3), activation = \"relu\"))\n",
        "  model.add(Conv2D(64, (3, 3), activation = \"relu\"))\n",
        "  model.add(MaxPool2D(pool_size=(3, 3)))\n",
        "  model.add(Flatten())\n",
        "  model.add(Dense(16, activation = \"relu\"))\n",
        "  model.add(Dense(1, activation = \"sigmoid\"))\n",
        "\n",
        "  model.compile(optimizer='adam',\n",
        "                loss=tf.keras.losses.BinaryCrossentropy(),\n",
        "                metrics=['accuracy'])\n",
        "  history = model.fit(x_train, y_train, epochs=8, validation_split=0.25, batch_size = 40)\n",
        "  all_models.append(model)\n",
        "  all_histories.append(history)"
      ],
      "execution_count": null,
      "outputs": [
        {
          "output_type": "stream",
          "name": "stdout",
          "text": [
            "Epoch 1/8\n",
            "6/6 [==============================] - 72s 12s/step - loss: 4.4717 - accuracy: 0.5423 - val_loss: 0.7880 - val_accuracy: 0.4706\n",
            "Epoch 2/8\n",
            "6/6 [==============================] - 70s 11s/step - loss: 0.6803 - accuracy: 0.5771 - val_loss: 0.6360 - val_accuracy: 0.6912\n",
            "Epoch 3/8\n",
            "6/6 [==============================] - 70s 12s/step - loss: 0.6329 - accuracy: 0.7562 - val_loss: 0.6668 - val_accuracy: 0.5882\n",
            "Epoch 4/8\n",
            "6/6 [==============================] - 71s 12s/step - loss: 0.6046 - accuracy: 0.7264 - val_loss: 0.5325 - val_accuracy: 0.8382\n",
            "Epoch 5/8\n",
            "6/6 [==============================] - 69s 11s/step - loss: 0.4952 - accuracy: 0.7811 - val_loss: 0.4027 - val_accuracy: 0.8088\n",
            "Epoch 6/8\n",
            "6/6 [==============================] - 69s 11s/step - loss: 0.3788 - accuracy: 0.8060 - val_loss: 0.4328 - val_accuracy: 0.8382\n",
            "Epoch 7/8\n",
            "6/6 [==============================] - 70s 11s/step - loss: 0.3004 - accuracy: 0.8458 - val_loss: 0.3910 - val_accuracy: 0.8382\n",
            "Epoch 8/8\n",
            "6/6 [==============================] - 70s 11s/step - loss: 0.1915 - accuracy: 0.9403 - val_loss: 0.4887 - val_accuracy: 0.8382\n"
          ]
        }
      ]
    },
    {
      "cell_type": "code",
      "metadata": {
        "colab": {
          "base_uri": "https://localhost:8080/"
        },
        "id": "mhyqOAoJYu8U",
        "outputId": "e258c19a-28a2-4899-a179-bc91edac57fa"
      },
      "source": [
        "for i in range(1):\n",
        "  all_models[i].evaluate(x_val, y_val)"
      ],
      "execution_count": null,
      "outputs": [
        {
          "output_type": "stream",
          "name": "stdout",
          "text": [
            "4/4 [==============================] - 9s 2s/step - loss: 0.3186 - accuracy: 0.8879\n"
          ]
        }
      ]
    },
    {
      "cell_type": "code",
      "metadata": {
        "colab": {
          "base_uri": "https://localhost:8080/"
        },
        "id": "puQ8hPbZFCpY",
        "outputId": "84c6833b-17b2-4425-ba6b-474040cf99c7"
      },
      "source": [
        "print(history.history.keys())"
      ],
      "execution_count": null,
      "outputs": [
        {
          "output_type": "stream",
          "name": "stdout",
          "text": [
            "dict_keys(['loss', 'accuracy'])\n"
          ]
        }
      ]
    },
    {
      "cell_type": "code",
      "metadata": {
        "id": "T6xK1J5dehMn",
        "colab": {
          "base_uri": "https://localhost:8080/",
          "height": 295
        },
        "outputId": "bbf8293e-ee21-42d7-f087-784743f6c159"
      },
      "source": [
        "\n",
        "plt.plot(all_histories[0].history['accuracy'])\n",
        "plt.plot(all_histories[0].history['loss'])\n",
        "plt.title('model accuracy/loss')\n",
        "plt.ylabel('accuracy')\n",
        "plt.xlabel('epoch')\n",
        "plt.legend(['accuracy', 'loss'], loc='upper left')\n",
        "plt.show()"
      ],
      "execution_count": null,
      "outputs": [
        {
          "output_type": "display_data",
          "data": {
            "image/png": "[encoded data removed]",
            "text/plain": [
              "<Figure size 432x288 with 1 Axes>"
            ]
          },
          "metadata": {
            "needs_background": "light"
          }
        }
      ]
    },
    {
      "cell_type": "code",
      "metadata": {
        "colab": {
          "base_uri": "https://localhost:8080/"
        },
        "id": "VZF7qd-sfmDc",
        "outputId": "66a134fb-d12e-4ee1-a023-e54c759490bb"
      },
      "source": [
        "all_models[0].save(\"/content/drive/MyDrive/newCS230/fourth_model211101_8879\")"
      ],
      "execution_count": null,
      "outputs": [
        {
          "output_type": "stream",
          "name": "stdout",
          "text": [
            "INFO:tensorflow:Assets written to: /content/drive/MyDrive/newCS230/fourth_model211101_8879/assets\n"
          ]
        }
      ]
    },
    {
      "cell_type": "code",
      "metadata": {
        "colab": {
          "base_uri": "https://localhost:8080/"
        },
        "id": "TkDg0talf36A",
        "outputId": "216a2545-30d0-4356-c716-090c962d7c76"
      },
      "source": [
        "model2 = keras.models.load_model(\"/content/drive/MyDrive/newCS230/fourth_model211101_8879\")\n",
        "x_train2, x_val2, y_train2, y_val2 = train_test_split(images, labels, test_size=0.3, random_state=2)\n",
        "model2.evaluate(x_val2, y_val2)"
      ],
      "execution_count": null,
      "outputs": [
        {
          "output_type": "stream",
          "name": "stdout",
          "text": [
            "4/4 [==============================] - 9s 2s/step - loss: 0.3101 - accuracy: 0.9138\n"
          ]
        },
        {
          "output_type": "execute_result",
          "data": {
            "text/plain": [
              "[0.3101004958152771, 0.9137930870056152]"
            ]
          },
          "metadata": {},
          "execution_count": 26
        }
      ]
    },
    {
      "cell_type": "code",
      "metadata": {
        "id": "DENEvJHvs8lG"
      },
      "source": [
        ""
      ],
      "execution_count": null,
      "outputs": []
    }
  ]
}