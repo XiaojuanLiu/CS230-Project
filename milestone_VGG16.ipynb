{
  "nbformat": 4,
  "nbformat_minor": 0,
  "metadata": {
    "colab": {
      "name": "milestone_VGG16",
      "provenance": [],
      "collapsed_sections": [],
      "include_colab_link": true
    },
    "kernelspec": {
      "name": "python3",
      "display_name": "Python 3"
    },
    "language_info": {
      "name": "python"
    }
  },
  "cells": [
    {
      "cell_type": "markdown",
      "metadata": {
        "id": "view-in-github",
        "colab_type": "text"
      },
      "source": [
        "<a href=\"https://colab.research.google.com/github/liuyx211/CS230-Project/blob/main/milestone_VGG16.ipynb\" target=\"_parent\"><img src=\"https://colab.research.google.com/assets/colab-badge.svg\" alt=\"Open In Colab\"/></a>"
      ]
    },
    {
      "cell_type": "code",
      "metadata": {
        "colab": {
          "base_uri": "https://localhost:8080/"
        },
        "id": "5S61c9MOPOqT",
        "outputId": "349c0d34-c280-40f1-ca29-1df4733c95a0"
      },
      "source": [
        "!pip install git+https://github.com/tensorflow/examples.git\n",
        "!pip install imgaug==0.4.0\n",
        "!pip install -U tensorflow-addons"
      ],
      "execution_count": null,
      "outputs": [
        {
          "output_type": "stream",
          "name": "stdout",
          "text": [
            "Collecting git+https://github.com/tensorflow/examples.git\n",
            "  Cloning https://github.com/tensorflow/examples.git to /tmp/pip-req-build-qcj5ddnm\n",
            "  Running command git clone -q https://github.com/tensorflow/examples.git /tmp/pip-req-build-qcj5ddnm\n",
            "Requirement already satisfied: absl-py in /usr/local/lib/python3.7/dist-packages (from tensorflow-examples===dc0ed6edab3110744a6371d914a79fe3048fc542-) (0.12.0)\n",
            "Requirement already satisfied: six in /usr/local/lib/python3.7/dist-packages (from tensorflow-examples===dc0ed6edab3110744a6371d914a79fe3048fc542-) (1.15.0)\n",
            "Building wheels for collected packages: tensorflow-examples\n",
            "  Building wheel for tensorflow-examples (setup.py) ... \u001b[?25l\u001b[?25hdone\n",
            "  Created wheel for tensorflow-examples: filename=tensorflow_examples-dc0ed6edab3110744a6371d914a79fe3048fc542_-py3-none-any.whl size=268213 sha256=5929b9d7f740d9864cf918a6ae26e63dd045149d1286a4b7fc73eb31cb1c1c8d\n",
            "  Stored in directory: /tmp/pip-ephem-wheel-cache-pcqjvfa2/wheels/eb/19/50/2a4363c831fa12b400af86325a6f26ade5d2cdc5b406d552ca\n",
            "\u001b[33m  WARNING: Built wheel for tensorflow-examples is invalid: Metadata 1.2 mandates PEP 440 version, but 'dc0ed6edab3110744a6371d914a79fe3048fc542-' is not\u001b[0m\n",
            "Failed to build tensorflow-examples\n",
            "Installing collected packages: tensorflow-examples\n",
            "    Running setup.py install for tensorflow-examples ... \u001b[?25l\u001b[?25hdone\n",
            "\u001b[33m  DEPRECATION: tensorflow-examples was installed using the legacy 'setup.py install' method, because a wheel could not be built for it. A possible replacement is to fix the wheel build issue reported above. You can find discussion regarding this at https://github.com/pypa/pip/issues/8368.\u001b[0m\n",
            "Successfully installed tensorflow-examples-dc0ed6edab3110744a6371d914a79fe3048fc542-\n",
            "Collecting imgaug==0.4.0\n",
            "  Downloading imgaug-0.4.0-py2.py3-none-any.whl (948 kB)\n",
            "\u001b[K     |████████████████████████████████| 948 kB 14.8 MB/s \n",
            "\u001b[?25hRequirement already satisfied: imageio in /usr/local/lib/python3.7/dist-packages (from imgaug==0.4.0) (2.4.1)\n",
            "Requirement already satisfied: numpy>=1.15 in /usr/local/lib/python3.7/dist-packages (from imgaug==0.4.0) (1.19.5)\n",
            "Requirement already satisfied: six in /usr/local/lib/python3.7/dist-packages (from imgaug==0.4.0) (1.15.0)\n",
            "Requirement already satisfied: Pillow in /usr/local/lib/python3.7/dist-packages (from imgaug==0.4.0) (7.1.2)\n",
            "Requirement already satisfied: matplotlib in /usr/local/lib/python3.7/dist-packages (from imgaug==0.4.0) (3.2.2)\n",
            "Requirement already satisfied: scipy in /usr/local/lib/python3.7/dist-packages (from imgaug==0.4.0) (1.4.1)\n",
            "Requirement already satisfied: scikit-image>=0.14.2 in /usr/local/lib/python3.7/dist-packages (from imgaug==0.4.0) (0.16.2)\n",
            "Requirement already satisfied: opencv-python in /usr/local/lib/python3.7/dist-packages (from imgaug==0.4.0) (4.1.2.30)\n",
            "Requirement already satisfied: Shapely in /usr/local/lib/python3.7/dist-packages (from imgaug==0.4.0) (1.7.1)\n",
            "Requirement already satisfied: PyWavelets>=0.4.0 in /usr/local/lib/python3.7/dist-packages (from scikit-image>=0.14.2->imgaug==0.4.0) (1.1.1)\n",
            "Requirement already satisfied: networkx>=2.0 in /usr/local/lib/python3.7/dist-packages (from scikit-image>=0.14.2->imgaug==0.4.0) (2.6.3)\n",
            "Requirement already satisfied: cycler>=0.10 in /usr/local/lib/python3.7/dist-packages (from matplotlib->imgaug==0.4.0) (0.10.0)\n",
            "Requirement already satisfied: pyparsing!=2.0.4,!=2.1.2,!=2.1.6,>=2.0.1 in /usr/local/lib/python3.7/dist-packages (from matplotlib->imgaug==0.4.0) (2.4.7)\n",
            "Requirement already satisfied: python-dateutil>=2.1 in /usr/local/lib/python3.7/dist-packages (from matplotlib->imgaug==0.4.0) (2.8.2)\n",
            "Requirement already satisfied: kiwisolver>=1.0.1 in /usr/local/lib/python3.7/dist-packages (from matplotlib->imgaug==0.4.0) (1.3.2)\n",
            "Installing collected packages: imgaug\n",
            "  Attempting uninstall: imgaug\n",
            "    Found existing installation: imgaug 0.2.9\n",
            "    Uninstalling imgaug-0.2.9:\n",
            "      Successfully uninstalled imgaug-0.2.9\n",
            "\u001b[31mERROR: pip's dependency resolver does not currently take into account all the packages that are installed. This behaviour is the source of the following dependency conflicts.\n",
            "albumentations 0.1.12 requires imgaug<0.2.7,>=0.2.5, but you have imgaug 0.4.0 which is incompatible.\u001b[0m\n",
            "Successfully installed imgaug-0.4.0\n",
            "Collecting tensorflow-addons\n",
            "  Downloading tensorflow_addons-0.14.0-cp37-cp37m-manylinux_2_12_x86_64.manylinux2010_x86_64.whl (1.1 MB)\n",
            "\u001b[K     |████████████████████████████████| 1.1 MB 12.5 MB/s \n",
            "\u001b[?25hRequirement already satisfied: typeguard>=2.7 in /usr/local/lib/python3.7/dist-packages (from tensorflow-addons) (2.7.1)\n",
            "Installing collected packages: tensorflow-addons\n",
            "Successfully installed tensorflow-addons-0.14.0\n"
          ]
        }
      ]
    },
    {
      "cell_type": "code",
      "metadata": {
        "id": "wcA1wgEPPSB8"
      },
      "source": [
        "import numpy as np\n",
        "import datetime\n",
        "import random\n",
        "import os"
      ],
      "execution_count": null,
      "outputs": []
    },
    {
      "cell_type": "code",
      "metadata": {
        "id": "_wnCgYkXPVuC"
      },
      "source": [
        "from tensorflow.keras import layers\n",
        "import tensorflow as tf\n",
        "from tensorflow import keras\n",
        "from tensorflow.keras import applications, optimizers\n",
        "from tensorflow.keras.layers import *\n",
        "from tensorflow.keras.models import *\n",
        "from tensorflow.keras.callbacks import ReduceLROnPlateau, EarlyStopping\n",
        "from tensorflow.keras.preprocessing.image import load_img\n",
        "from tensorflow.keras.preprocessing.image import img_to_array\n",
        "import tensorflow_addons as tfa\n",
        "import matplotlib.pyplot as plt\n",
        "from tensorflow_examples.models.pix2pix import pix2pix\n",
        "\n",
        "import json\n",
        "import imgaug as ia\n",
        "import imgaug.augmenters as iaa\n",
        "from imgaug.augmentables.segmaps import SegmentationMapsOnImage\n",
        "\n",
        "from sklearn.model_selection import train_test_split\n",
        "from IPython.display import clear_output\n",
        "\n",
        "import xml.etree.ElementTree as ET\n",
        "\n",
        "from keras.applications.vgg16 import VGG16\n",
        "\n",
        "image_size = 224"
      ],
      "execution_count": null,
      "outputs": []
    },
    {
      "cell_type": "code",
      "metadata": {
        "colab": {
          "base_uri": "https://localhost:8080/"
        },
        "id": "iRIHePEBPdj2",
        "outputId": "39879843-7b57-49f7-cdf5-d398969abc02"
      },
      "source": [
        "from google.colab import drive\n",
        "drive.mount('/content/drive')"
      ],
      "execution_count": null,
      "outputs": [
        {
          "output_type": "stream",
          "name": "stdout",
          "text": [
            "Mounted at /content/drive\n"
          ]
        }
      ]
    },
    {
      "cell_type": "code",
      "metadata": {
        "id": "dToi9-ohQuHr"
      },
      "source": [
        "image_path = '/content/drive/MyDrive/newCS230/newdataset'\n",
        "label_path = '/content/drive/MyDrive/newCS230/new_positive_labels'\n",
        "secondary_path = '/content/drive/MyDrive/newCS230/non-card'"
      ],
      "execution_count": null,
      "outputs": []
    },
    {
      "cell_type": "code",
      "metadata": {
        "colab": {
          "base_uri": "https://localhost:8080/"
        },
        "id": "XKTU7TMVPJ0H",
        "outputId": "17cccb18-d34a-4ea1-8f6d-45aba9a99a1a"
      },
      "source": [
        "images = []\n",
        "labels = []\n",
        "for f in os.listdir(f\"{image_path}\"):\n",
        "    image_file = f\"{image_path}/{f}\"\n",
        "    img_array = img_to_array(load_img(image_file), dtype='uint8')\n",
        "    img_array = tf.image.resize(img_array, (image_size, image_size), antialias=False)\n",
        "    images.append(img_array)\n",
        "    \n",
        "    label_file = f\"{label_path}/{f[:-5]}.xml\"\n",
        "    try:\n",
        "        tree = ET.parse(label_file)\n",
        "        labels.append(1)\n",
        "    except:\n",
        "        print(label_file)\n",
        "        labels.append(0)\n",
        "\n",
        "############################################################\n",
        "for f in os.listdir(f\"{secondary_path}\"):\n",
        "    image_file = f\"{secondary_path}/{f}\"\n",
        "    img_array = img_to_array(load_img(image_file), dtype='uint8')\n",
        "    img_array = tf.image.resize(img_array, (image_size, image_size), antialias=False)\n",
        "    images.append(img_array)\n",
        "    labels.append(0)\n",
        "\n",
        "#    img_mask_array = np.load(mask_file)\n",
        "#    masks.append(img_mask_array['arr_0'])\n",
        "#images = np.array(images)\n",
        "#masks = np.array(masks)\n",
        "#masks = np.array(masks>0, dtype='uint8')"
      ],
      "execution_count": null,
      "outputs": [
        {
          "output_type": "stream",
          "name": "stdout",
          "text": [
            "/content/drive/MyDrive/newCS230/new_positive_labels/184.xml\n",
            "/content/drive/MyDrive/newCS230/new_positive_labels/175.xml\n",
            "/content/drive/MyDrive/newCS230/new_positive_labels/158.xml\n",
            "/content/drive/MyDrive/newCS230/new_positive_labels/151.xml\n",
            "/content/drive/MyDrive/newCS230/new_positive_labels/152.xml\n",
            "/content/drive/MyDrive/newCS230/new_positive_labels/205.xml\n",
            "/content/drive/MyDrive/newCS230/new_positive_labels/170.xml\n",
            "/content/drive/MyDrive/newCS230/new_positive_labels/155.xml\n",
            "/content/drive/MyDrive/newCS230/new_positive_labels/201.xml\n",
            "/content/drive/MyDrive/newCS230/new_positive_labels/188.xml\n",
            "/content/drive/MyDrive/newCS230/new_positive_labels/177.xml\n",
            "/content/drive/MyDrive/newCS230/new_positive_labels/181.xml\n",
            "/content/drive/MyDrive/newCS230/new_positive_labels/156.xml\n",
            "/content/drive/MyDrive/newCS230/new_positive_labels/183.xml\n",
            "/content/drive/MyDrive/newCS230/new_positive_labels/190.xml\n",
            "/content/drive/MyDrive/newCS230/new_positive_labels/113.xml\n",
            "/content/drive/MyDrive/newCS230/new_positive_labels/115.xml\n",
            "/content/drive/MyDrive/newCS230/new_positive_labels/160.xml\n",
            "/content/drive/MyDrive/newCS230/new_positive_labels/171.xml\n",
            "/content/drive/MyDrive/newCS230/new_positive_labels/150.xml\n",
            "/content/drive/MyDrive/newCS230/new_positive_labels/182.xml\n",
            "/content/drive/MyDrive/newCS230/new_positive_labels/169.xml\n",
            "/content/drive/MyDrive/newCS230/new_positive_labels/191.xml\n",
            "/content/drive/MyDrive/newCS230/new_positive_labels/186.xml\n",
            "/content/drive/MyDrive/newCS230/new_positive_labels/167.xml\n",
            "/content/drive/MyDrive/newCS230/new_positive_labels/159.xml\n",
            "/content/drive/MyDrive/newCS230/new_positive_labels/148.xml\n",
            "/content/drive/MyDrive/newCS230/new_positive_labels/173.xml\n",
            "/content/drive/MyDrive/newCS230/new_positive_labels/168.xml\n",
            "/content/drive/MyDrive/newCS230/new_positive_labels/157.xml\n",
            "/content/drive/MyDrive/newCS230/new_positive_labels/164.xml\n",
            "/content/drive/MyDrive/newCS230/new_positive_labels/199.xml\n",
            "/content/drive/MyDrive/newCS230/new_positive_labels/153.xml\n",
            "/content/drive/MyDrive/newCS230/new_positive_labels/178.xml\n",
            "/content/drive/MyDrive/newCS230/new_positive_labels/185.xml\n",
            "/content/drive/MyDrive/newCS230/new_positive_labels/174.xml\n",
            "/content/drive/MyDrive/newCS230/new_positive_labels/172.xml\n",
            "/content/drive/MyDrive/newCS230/new_positive_labels/180.xml\n",
            "/content/drive/MyDrive/newCS230/new_positive_labels/134.xml\n",
            "/content/drive/MyDrive/newCS230/new_positive_labels/197.xml\n",
            "/content/drive/MyDrive/newCS230/new_positive_labels/116.xml\n",
            "/content/drive/MyDrive/newCS230/new_positive_labels/189.xml\n",
            "/content/drive/MyDrive/newCS230/new_positive_labels/179.xml\n",
            "/content/drive/MyDrive/newCS230/new_positive_labels/225.xml\n",
            "/content/drive/MyDrive/newCS230/new_positive_labels/166.xml\n",
            "/content/drive/MyDrive/newCS230/new_positive_labels/114.xml\n"
          ]
        }
      ]
    },
    {
      "cell_type": "code",
      "metadata": {
        "id": "CcnpmtLaRpY0"
      },
      "source": [
        "\n",
        "images = np.array(images)\n",
        "images = np.array(images/255.0, dtype='float32')\n",
        "labels = np.array(labels)\n",
        "x_train, x_val, y_train, y_val = train_test_split(images, labels, test_size=0.3, random_state=1)"
      ],
      "execution_count": null,
      "outputs": []
    },
    {
      "cell_type": "code",
      "metadata": {
        "colab": {
          "base_uri": "https://localhost:8080/"
        },
        "id": "gwUvHenLB5Nr",
        "outputId": "4e74111c-1496-4608-a62c-0e2b0550d92f"
      },
      "source": [
        "print(images.shape)\n",
        "print(y_val.shape)\n",
        "print(np.sum(y_val)/y_val.shape[0])"
      ],
      "execution_count": null,
      "outputs": [
        {
          "output_type": "stream",
          "name": "stdout",
          "text": [
            "(385, 224, 224, 3)\n",
            "(116,)\n",
            "0.43103448275862066\n"
          ]
        }
      ]
    },
    {
      "cell_type": "code",
      "metadata": {
        "id": "UpIhHBWMSVNJ",
        "colab": {
          "base_uri": "https://localhost:8080/"
        },
        "outputId": "e207d69f-10aa-463b-97b1-cf4d668edb16"
      },
      "source": [
        "model = None\n",
        "model = Sequential()\n",
        "VGG  = VGG16(include_top = False, input_shape = (image_size, image_size, 3))\n",
        "for layer in VGG.layers:\n",
        "  layer.trainable = False\n",
        "model.add(VGG)\n",
        "model.add(Flatten())\n",
        "model.add(Dense(16, activation = \"relu\"))\n",
        "model.add(Dense(1, activation = \"sigmoid\"))\n",
        "model.summary()"
      ],
      "execution_count": null,
      "outputs": [
        {
          "output_type": "stream",
          "name": "stdout",
          "text": [
            "Model: \"sequential_4\"\n",
            "_________________________________________________________________\n",
            "Layer (type)                 Output Shape              Param #   \n",
            "=================================================================\n",
            "vgg16 (Functional)           (None, 7, 7, 512)         14714688  \n",
            "_________________________________________________________________\n",
            "flatten_2 (Flatten)          (None, 25088)             0         \n",
            "_________________________________________________________________\n",
            "dense_3 (Dense)              (None, 16)                401424    \n",
            "_________________________________________________________________\n",
            "dense_4 (Dense)              (None, 1)                 17        \n",
            "=================================================================\n",
            "Total params: 15,116,129\n",
            "Trainable params: 401,441\n",
            "Non-trainable params: 14,714,688\n",
            "_________________________________________________________________\n"
          ]
        }
      ]
    },
    {
      "cell_type": "code",
      "metadata": {
        "colab": {
          "base_uri": "https://localhost:8080/"
        },
        "id": "c3BjKXprJTxr",
        "outputId": "61aaf95a-a53f-4b6c-a39e-e86261d0e2ad"
      },
      "source": [
        "model.compile(optimizer='adam',\n",
        "              loss=tf.keras.losses.BinaryCrossentropy(),\n",
        "              metrics=['accuracy'])\n",
        "history = model.fit(x_train, y_train, epochs=10, validation_split=0.25, batch_size = 40)"
      ],
      "execution_count": null,
      "outputs": [
        {
          "output_type": "stream",
          "name": "stdout",
          "text": [
            "Epoch 1/10\n",
            "6/6 [==============================] - 99s 17s/step - loss: 0.5935 - accuracy: 0.6567 - val_loss: 0.3512 - val_accuracy: 0.8676\n",
            "Epoch 2/10\n",
            "6/6 [==============================] - 98s 17s/step - loss: 0.1962 - accuracy: 0.8955 - val_loss: 0.3854 - val_accuracy: 0.8382\n",
            "Epoch 3/10\n",
            "6/6 [==============================] - 98s 17s/step - loss: 0.1133 - accuracy: 0.9652 - val_loss: 0.4251 - val_accuracy: 0.8529\n",
            "Epoch 4/10\n",
            "6/6 [==============================] - 100s 17s/step - loss: 0.0636 - accuracy: 0.9751 - val_loss: 0.2522 - val_accuracy: 0.9265\n",
            "Epoch 5/10\n",
            "6/6 [==============================] - 98s 17s/step - loss: 0.0298 - accuracy: 1.0000 - val_loss: 0.1993 - val_accuracy: 0.9265\n",
            "Epoch 6/10\n",
            "6/6 [==============================] - 98s 17s/step - loss: 0.0101 - accuracy: 1.0000 - val_loss: 0.2971 - val_accuracy: 0.9118\n",
            "Epoch 7/10\n",
            "6/6 [==============================] - 98s 17s/step - loss: 0.0108 - accuracy: 1.0000 - val_loss: 0.2326 - val_accuracy: 0.9265\n",
            "Epoch 8/10\n",
            "6/6 [==============================] - 98s 17s/step - loss: 0.0046 - accuracy: 1.0000 - val_loss: 0.1906 - val_accuracy: 0.9265\n",
            "Epoch 9/10\n",
            "6/6 [==============================] - 98s 17s/step - loss: 0.0045 - accuracy: 1.0000 - val_loss: 0.1889 - val_accuracy: 0.9265\n",
            "Epoch 10/10\n",
            "6/6 [==============================] - 98s 17s/step - loss: 0.0036 - accuracy: 1.0000 - val_loss: 0.2061 - val_accuracy: 0.9265\n"
          ]
        }
      ]
    },
    {
      "cell_type": "code",
      "metadata": {
        "colab": {
          "base_uri": "https://localhost:8080/"
        },
        "id": "mhyqOAoJYu8U",
        "outputId": "1f818b2e-d895-4cbf-b46c-090f400cfd8f"
      },
      "source": [
        "model.evaluate(x_val, y_val)\n"
      ],
      "execution_count": null,
      "outputs": [
        {
          "output_type": "stream",
          "name": "stdout",
          "text": [
            "4/4 [==============================] - 42s 10s/step - loss: 0.0817 - accuracy: 0.9828\n"
          ]
        },
        {
          "output_type": "execute_result",
          "data": {
            "text/plain": [
              "[0.08166427910327911, 0.982758641242981]"
            ]
          },
          "metadata": {},
          "execution_count": 18
        }
      ]
    },
    {
      "cell_type": "code",
      "metadata": {
        "colab": {
          "base_uri": "https://localhost:8080/"
        },
        "id": "puQ8hPbZFCpY",
        "outputId": "52f9900d-a6d2-4c13-9330-7e72b3e40f0d"
      },
      "source": [
        "print(history.history.keys())"
      ],
      "execution_count": null,
      "outputs": [
        {
          "output_type": "stream",
          "name": "stdout",
          "text": [
            "dict_keys(['loss', 'accuracy', 'val_loss', 'val_accuracy'])\n"
          ]
        }
      ]
    },
    {
      "cell_type": "code",
      "metadata": {
        "id": "T6xK1J5dehMn",
        "colab": {
          "base_uri": "https://localhost:8080/",
          "height": 295
        },
        "outputId": "30e1b8e5-c2ab-46c4-a544-ce8c91b5e692"
      },
      "source": [
        "\n",
        "plt.plot(history.history['loss'])\n",
        "plt.plot(history.history['val_loss'])\n",
        "plt.title('model traning/validation loss')\n",
        "plt.ylabel('loss')\n",
        "plt.xlabel('epoch')\n",
        "plt.legend(['training loss', 'validation loss'], loc='upper right')\n",
        "plt.show()"
      ],
      "execution_count": null,
      "outputs": [
        {
          "output_type": "display_data",
          "data": {
            "image/png": "[encoded data removed]",
            "text/plain": [
              "<Figure size 432x288 with 1 Axes>"
            ]
          },
          "metadata": {
            "needs_background": "light"
          }
        }
      ]
    },
    {
      "cell_type": "code",
      "metadata": {
        "colab": {
          "base_uri": "https://localhost:8080/"
        },
        "id": "VZF7qd-sfmDc",
        "outputId": "6e46a400-9a82-4f3f-ab61-346babc6ea47"
      },
      "source": [
        "model.save(\"/content/drive/MyDrive/newCS230/first_pretrained_model211103_9828\")"
      ],
      "execution_count": null,
      "outputs": [
        {
          "output_type": "stream",
          "name": "stdout",
          "text": [
            "INFO:tensorflow:Assets written to: /content/drive/MyDrive/newCS230/first_pretrained_model211103_9828/assets\n"
          ]
        }
      ]
    },
    {
      "cell_type": "code",
      "metadata": {
        "colab": {
          "base_uri": "https://localhost:8080/"
        },
        "id": "TkDg0talf36A",
        "outputId": "a929c2a1-ebd8-4ce2-91cc-7955ef89bdec"
      },
      "source": [
        "model2 = keras.models.load_model(\"/content/drive/MyDrive/newCS230/first_pretrained_model211103_9828\")\n",
        "x_train2, x_val2, y_train2, y_val2 = train_test_split(images, labels, test_size=0.3, random_state=2)\n",
        "model2.evaluate(x_val2, y_val2)"
      ],
      "execution_count": null,
      "outputs": [
        {
          "output_type": "stream",
          "name": "stdout",
          "text": [
            "4/4 [==============================] - 43s 10s/step - loss: 0.0927 - accuracy: 0.9828\n"
          ]
        },
        {
          "output_type": "execute_result",
          "data": {
            "text/plain": [
              "[0.0927121639251709, 0.982758641242981]"
            ]
          },
          "metadata": {},
          "execution_count": 23
        }
      ]
    },
    {
      "cell_type": "code",
      "metadata": {
        "id": "DENEvJHvs8lG"
      },
      "source": [
        ""
      ],
      "execution_count": null,
      "outputs": []
    }
  ]
}